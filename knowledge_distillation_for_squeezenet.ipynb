{
 "cells": [
  {
   "cell_type": "code",
   "execution_count": 1,
   "metadata": {
    "collapsed": true
   },
   "outputs": [],
   "source": [
    "%load_ext autoreload\n",
    "%autoreload 2"
   ]
  },
  {
   "cell_type": "code",
   "execution_count": 2,
   "metadata": {},
   "outputs": [
    {
     "name": "stderr",
     "output_type": "stream",
     "text": [
      "Using TensorFlow backend.\n"
     ]
    }
   ],
   "source": [
    "import numpy as np\n",
    "import sys\n",
    "\n",
    "import keras\n",
    "from keras import optimizers\n",
    "from keras.callbacks import ReduceLROnPlateau, EarlyStopping\n",
    "\n",
    "# use non standard flow_from_directory\n",
    "from utils.image_preprocessing_v2 import ImageDataGenerator\n",
    "# it outputs y_batch that contains onehot targets and logits\n",
    "# logits came from xception\n",
    "\n",
    "from keras.models import Model\n",
    "from keras.layers import Lambda, concatenate, Activation\n",
    "from keras.losses import categorical_crossentropy as logloss\n",
    "from keras.metrics import categorical_accuracy, top_k_categorical_accuracy\n",
    "from keras import backend as K\n",
    "\n",
    "from models.squeezenet import SqueezeNet, preprocess_input\n",
    "\n",
    "import matplotlib.pyplot as plt\n",
    "%matplotlib inline"
   ]
  },
  {
   "cell_type": "code",
   "execution_count": 3,
   "metadata": {
    "collapsed": true
   },
   "outputs": [],
   "source": [
    "data_dir = '/home/ubuntu/data/'"
   ]
  },
  {
   "cell_type": "code",
   "execution_count": 4,
   "metadata": {
    "collapsed": true
   },
   "outputs": [],
   "source": [
    "train_logits = np.load(data_dir + 'train_logits.npy')[()]\n",
    "val_logits = np.load(data_dir + 'val_logits.npy')[()]"
   ]
  },
  {
   "cell_type": "code",
   "execution_count": 5,
   "metadata": {},
   "outputs": [
    {
     "name": "stdout",
     "output_type": "stream",
     "text": [
      "Found 25600 images belonging to 256 classes.\n",
      "Found 5120 images belonging to 256 classes.\n"
     ]
    }
   ],
   "source": [
    "data_generator = ImageDataGenerator(\n",
    "    data_format='channels_last',\n",
    "    preprocessing_function=preprocess_input\n",
    ")\n",
    "\n",
    "# note: i'm also passing dicts of logits\n",
    "train_generator = data_generator.flow_from_directory(\n",
    "    data_dir + 'train', train_logits,\n",
    "    target_size=(299, 299),\n",
    "    batch_size=64\n",
    ")\n",
    "\n",
    "val_generator = data_generator.flow_from_directory(\n",
    "    data_dir + 'val', val_logits,\n",
    "    target_size=(299, 299),\n",
    "    batch_size=64\n",
    ")"
   ]
  },
  {
   "cell_type": "markdown",
   "metadata": {},
   "source": [
    "# Create model"
   ]
  },
  {
   "cell_type": "code",
   "execution_count": 11,
   "metadata": {
    "collapsed": true
   },
   "outputs": [],
   "source": [
    "temperature = 5.0"
   ]
  },
  {
   "cell_type": "code",
   "execution_count": 12,
   "metadata": {
    "collapsed": true
   },
   "outputs": [],
   "source": [
    "model = SqueezeNet(weight_decay=1e-4, image_size=299)\n",
    "\n",
    "# remove softmax\n",
    "model.layers.pop()\n",
    "\n",
    "# usual probabilities\n",
    "logits = model.layers[-1].output\n",
    "probabilities = Activation('softmax')(logits)\n",
    "\n",
    "# softed probabilities\n",
    "logits_T = Lambda(lambda x: x/temperature)(logits)\n",
    "probabilities_T = Activation('softmax')(logits_T)\n",
    "\n",
    "output = concatenate([probabilities, probabilities_T])\n",
    "model = Model(model.input, output)\n",
    "# now model outputs 512 dimensional vectors"
   ]
  },
  {
   "cell_type": "markdown",
   "metadata": {},
   "source": [
    "# Create custom loss"
   ]
  },
  {
   "cell_type": "code",
   "execution_count": 13,
   "metadata": {
    "collapsed": true
   },
   "outputs": [],
   "source": [
    "def knowledge_distillation_loss(y_true, y_pred, lambda_const):    \n",
    "    \n",
    "    # split in \n",
    "    #    onehot hard true targets\n",
    "    #    logits from xception\n",
    "    y_true, logits = y_true[:, :256], y_true[:, 256:]\n",
    "    \n",
    "    # convert logits to soft targets\n",
    "    y_soft = K.softmax(logits/temperature)\n",
    "    \n",
    "    # split in \n",
    "    #    usual output probabilities\n",
    "    #    probabilities made softer with temperature\n",
    "    y_pred, y_pred_soft = y_pred[:, :256], y_pred[:, 256:]    \n",
    "    \n",
    "    return lambda_const*logloss(y_true, y_pred) + logloss(y_soft, y_pred_soft)"
   ]
  },
  {
   "cell_type": "markdown",
   "metadata": {},
   "source": [
    "# For testing use usual output probabilities (without temperature)"
   ]
  },
  {
   "cell_type": "code",
   "execution_count": 14,
   "metadata": {
    "collapsed": true
   },
   "outputs": [],
   "source": [
    "def accuracy(y_true, y_pred):\n",
    "    y_true = y_true[:, :256]\n",
    "    y_pred = y_pred[:, :256]\n",
    "    return categorical_accuracy(y_true, y_pred)"
   ]
  },
  {
   "cell_type": "code",
   "execution_count": 15,
   "metadata": {
    "collapsed": true
   },
   "outputs": [],
   "source": [
    "def top_5_accuracy(y_true, y_pred):\n",
    "    y_true = y_true[:, :256]\n",
    "    y_pred = y_pred[:, :256]\n",
    "    return top_k_categorical_accuracy(y_true, y_pred)"
   ]
  },
  {
   "cell_type": "code",
   "execution_count": 16,
   "metadata": {
    "collapsed": true
   },
   "outputs": [],
   "source": [
    "def categorical_crossentropy(y_true, y_pred):\n",
    "    y_true = y_true[:, :256]\n",
    "    y_pred = y_pred[:, :256]\n",
    "    return logloss(y_true, y_pred)"
   ]
  },
  {
   "cell_type": "code",
   "execution_count": 17,
   "metadata": {
    "collapsed": true
   },
   "outputs": [],
   "source": [
    "# logloss with only soft probabilities and targets\n",
    "def soft_logloss(y_true, y_pred):     \n",
    "    logits = y_true[:, 256:]\n",
    "    y_soft = K.softmax(logits/temperature)\n",
    "    y_pred_soft = y_pred[:, 256:]    \n",
    "    return logloss(y_soft, y_pred_soft)"
   ]
  },
  {
   "cell_type": "markdown",
   "metadata": {},
   "source": [
    "# Train"
   ]
  },
  {
   "cell_type": "code",
   "execution_count": 18,
   "metadata": {
    "collapsed": true
   },
   "outputs": [],
   "source": [
    "lambda_const = 0.2\n",
    "\n",
    "model.compile(\n",
    "    optimizer=optimizers.SGD(lr=1e-2, momentum=0.9, nesterov=True), \n",
    "    loss=lambda y_true, y_pred: knowledge_distillation_loss(y_true, y_pred, lambda_const), \n",
    "    metrics=[accuracy, top_5_accuracy, categorical_crossentropy, soft_logloss]\n",
    ")"
   ]
  },
  {
   "cell_type": "code",
   "execution_count": 19,
   "metadata": {
    "scrolled": false
   },
   "outputs": [
    {
     "name": "stdout",
     "output_type": "stream",
     "text": [
      "Epoch 1/30\n",
      "400/400 [==============================] - 36s - loss: 6.1129 - accuracy: 0.3999 - top_5_accuracy: 0.6179 - categorical_crossentropy: 3.0321 - soft_logloss: 5.5041 - val_loss: 5.8628 - val_accuracy: 0.5820 - val_top_5_accuracy: 0.8186 - val_categorical_crossentropy: 1.8152 - val_soft_logloss: 5.4963\n",
      "Epoch 2/30\n",
      "400/400 [==============================] - 35s - loss: 5.8049 - accuracy: 0.6626 - top_5_accuracy: 0.8586 - categorical_crossentropy: 1.5629 - soft_logloss: 5.4881 - val_loss: 5.8121 - val_accuracy: 0.6291 - val_top_5_accuracy: 0.8523 - val_categorical_crossentropy: 1.5437 - val_soft_logloss: 5.4984\n",
      "Epoch 3/30\n",
      "400/400 [==============================] - 35s - loss: 5.7414 - accuracy: 0.7319 - top_5_accuracy: 0.9034 - categorical_crossentropy: 1.2440 - soft_logloss: 5.4870 - val_loss: 5.8001 - val_accuracy: 0.6484 - val_top_5_accuracy: 0.8562 - val_categorical_crossentropy: 1.4661 - val_soft_logloss: 5.5007\n",
      "Epoch 4/30\n",
      "400/400 [==============================] - 35s - loss: 5.7077 - accuracy: 0.7751 - top_5_accuracy: 0.9242 - categorical_crossentropy: 1.0728 - soft_logloss: 5.4864 - val_loss: 5.7889 - val_accuracy: 0.6586 - val_top_5_accuracy: 0.8652 - val_categorical_crossentropy: 1.4034 - val_soft_logloss: 5.5009\n",
      "Epoch 5/30\n",
      "400/400 [==============================] - 36s - loss: 5.6860 - accuracy: 0.8019 - top_5_accuracy: 0.9362 - categorical_crossentropy: 0.9609 - soft_logloss: 5.4860 - val_loss: 5.7869 - val_accuracy: 0.6654 - val_top_5_accuracy: 0.8643 - val_categorical_crossentropy: 1.3793 - val_soft_logloss: 5.5027\n",
      "Epoch 6/30\n",
      "400/400 [==============================] - 35s - loss: 5.6694 - accuracy: 0.8250 - top_5_accuracy: 0.9465 - categorical_crossentropy: 0.8742 - soft_logloss: 5.4858 - val_loss: 5.7876 - val_accuracy: 0.6666 - val_top_5_accuracy: 0.8648 - val_categorical_crossentropy: 1.3902 - val_soft_logloss: 5.5004\n",
      "Epoch 7/30\n",
      "400/400 [==============================] - 36s - loss: 5.6573 - accuracy: 0.8438 - top_5_accuracy: 0.9534 - categorical_crossentropy: 0.8111 - soft_logloss: 5.4855 - val_loss: 5.7820 - val_accuracy: 0.6805 - val_top_5_accuracy: 0.8646 - val_categorical_crossentropy: 1.3401 - val_soft_logloss: 5.5040\n",
      "Epoch 8/30\n",
      "400/400 [==============================] - 35s - loss: 5.6475 - accuracy: 0.8541 - top_5_accuracy: 0.9609 - categorical_crossentropy: 0.7586 - soft_logloss: 5.4853 - val_loss: 5.7853 - val_accuracy: 0.6695 - val_top_5_accuracy: 0.8656 - val_categorical_crossentropy: 1.3582 - val_soft_logloss: 5.5028\n",
      "Epoch 9/30\n",
      "400/400 [==============================] - 36s - loss: 5.6398 - accuracy: 0.8653 - top_5_accuracy: 0.9645 - categorical_crossentropy: 0.7170 - soft_logloss: 5.4852 - val_loss: 5.7838 - val_accuracy: 0.6777 - val_top_5_accuracy: 0.8689 - val_categorical_crossentropy: 1.3341 - val_soft_logloss: 5.5054\n",
      "Epoch 10/30\n",
      "400/400 [==============================] - 35s - loss: 5.6333 - accuracy: 0.8761 - top_5_accuracy: 0.9675 - categorical_crossentropy: 0.6805 - soft_logloss: 5.4852 - val_loss: 5.7866 - val_accuracy: 0.6773 - val_top_5_accuracy: 0.8674 - val_categorical_crossentropy: 1.3570 - val_soft_logloss: 5.5029\n",
      "Epoch 11/30\n",
      "400/400 [==============================] - 35s - loss: 5.6178 - accuracy: 0.9008 - top_5_accuracy: 0.9756 - categorical_crossentropy: 0.6073 - soft_logloss: 5.4839 - val_loss: 5.7768 - val_accuracy: 0.6875 - val_top_5_accuracy: 0.8754 - val_categorical_crossentropy: 1.3110 - val_soft_logloss: 5.5022\n",
      "Epoch 12/30\n",
      "400/400 [==============================] - 36s - loss: 5.6153 - accuracy: 0.9062 - top_5_accuracy: 0.9758 - categorical_crossentropy: 0.5971 - soft_logloss: 5.4835 - val_loss: 5.7697 - val_accuracy: 0.6922 - val_top_5_accuracy: 0.8762 - val_categorical_crossentropy: 1.2696 - val_soft_logloss: 5.5033\n",
      "Epoch 13/30\n",
      "400/400 [==============================] - 35s - loss: 5.6151 - accuracy: 0.9054 - top_5_accuracy: 0.9755 - categorical_crossentropy: 0.5958 - soft_logloss: 5.4834 - val_loss: 5.7802 - val_accuracy: 0.6838 - val_top_5_accuracy: 0.8695 - val_categorical_crossentropy: 1.3274 - val_soft_logloss: 5.5022\n",
      "Epoch 14/30\n",
      "400/400 [==============================] - 36s - loss: 5.6137 - accuracy: 0.9082 - top_5_accuracy: 0.9767 - categorical_crossentropy: 0.5895 - soft_logloss: 5.4833 - val_loss: 5.7724 - val_accuracy: 0.6900 - val_top_5_accuracy: 0.8754 - val_categorical_crossentropy: 1.2935 - val_soft_logloss: 5.5012\n",
      "Epoch 15/30\n",
      "400/400 [==============================] - 36s - loss: 5.6126 - accuracy: 0.9096 - top_5_accuracy: 0.9762 - categorical_crossentropy: 0.5829 - soft_logloss: 5.4834 - val_loss: 5.7723 - val_accuracy: 0.6926 - val_top_5_accuracy: 0.8773 - val_categorical_crossentropy: 1.2860 - val_soft_logloss: 5.5025\n",
      "Epoch 16/30\n",
      "400/400 [==============================] - 36s - loss: 5.6126 - accuracy: 0.9095 - top_5_accuracy: 0.9770 - categorical_crossentropy: 0.5840 - soft_logloss: 5.4832 - val_loss: 5.7769 - val_accuracy: 0.6871 - val_top_5_accuracy: 0.8754 - val_categorical_crossentropy: 1.3071 - val_soft_logloss: 5.5029\n",
      "Epoch 17/30\n",
      "400/400 [==============================] - 36s - loss: 5.6119 - accuracy: 0.9113 - top_5_accuracy: 0.9770 - categorical_crossentropy: 0.5808 - soft_logloss: 5.4832 - val_loss: 5.7728 - val_accuracy: 0.6900 - val_top_5_accuracy: 0.8742 - val_categorical_crossentropy: 1.2930 - val_soft_logloss: 5.5016\n"
     ]
    },
    {
     "data": {
      "text/plain": [
       "<keras.callbacks.History at 0x7fee41efe278>"
      ]
     },
     "execution_count": 19,
     "metadata": {},
     "output_type": "execute_result"
    }
   ],
   "source": [
    "model.fit_generator(\n",
    "    train_generator, \n",
    "    steps_per_epoch=40, epochs=30, verbose=1,\n",
    "    callbacks=[\n",
    "        EarlyStopping(monitor='val_accuracy', patience=4, min_delta=0.01),\n",
    "        ReduceLROnPlateau(monitor='val_accuracy', factor=0.1, patience=2, epsilon=0.007)\n",
    "    ],\n",
    "    validation_data=val_generator, validation_steps=80, workers=4\n",
    ")"
   ]
  },
  {
   "cell_type": "markdown",
   "metadata": {},
   "source": [
    "# Loss/epoch plots"
   ]
  },
  {
   "cell_type": "code",
   "execution_count": 20,
   "metadata": {},
   "outputs": [
    {
     "data": {
      "image/png": "[encoded data removed]",
      "text/plain": [
       "<matplotlib.figure.Figure at 0x7fee41e99c88>"
      ]
     },
     "metadata": {},
     "output_type": "display_data"
    }
   ],
   "source": [
    "plt.plot(model.history.history['categorical_crossentropy'], label='train');\n",
    "plt.plot(model.history.history['val_categorical_crossentropy'], label='val');\n",
    "plt.legend();\n",
    "plt.xlabel('epoch');\n",
    "plt.ylabel('logloss');"
   ]
  },
  {
   "cell_type": "code",
   "execution_count": 21,
   "metadata": {},
   "outputs": [
    {
     "data": {
      "image/png": "[encoded data removed]",
      "text/plain": [
       "<matplotlib.figure.Figure at 0x7fee3f1c2b00>"
      ]
     },
     "metadata": {},
     "output_type": "display_data"
    }
   ],
   "source": [
    "plt.plot(model.history.history['accuracy'], label='train');\n",
    "plt.plot(model.history.history['val_accuracy'], label='val');\n",
    "plt.legend();\n",
    "plt.xlabel('epoch');\n",
    "plt.ylabel('accuracy');"
   ]
  },
  {
   "cell_type": "code",
   "execution_count": 22,
   "metadata": {
    "scrolled": true
   },
   "outputs": [
    {
     "data": {
      "image/png": "[encoded data removed]",
      "text/plain": [
       "<matplotlib.figure.Figure at 0x7fee3f1f8278>"
      ]
     },
     "metadata": {},
     "output_type": "display_data"
    }
   ],
   "source": [
    "plt.plot(model.history.history['top_5_accuracy'], label='train');\n",
    "plt.plot(model.history.history['val_top_5_accuracy'], label='val');\n",
    "plt.legend();\n",
    "plt.xlabel('epoch');\n",
    "plt.ylabel('top5_accuracy');"
   ]
  },
  {
   "cell_type": "markdown",
   "metadata": {},
   "source": [
    "# Results"
   ]
  },
  {
   "cell_type": "code",
   "execution_count": 23,
   "metadata": {},
   "outputs": [
    {
     "name": "stdout",
     "output_type": "stream",
     "text": [
      "Found 5120 images belonging to 256 classes.\n"
     ]
    }
   ],
   "source": [
    "val_generator_no_shuffle = data_generator.flow_from_directory(\n",
    "    data_dir + 'val', val_logits,\n",
    "    target_size=(299, 299),\n",
    "    batch_size=64, shuffle=False\n",
    ")"
   ]
  },
  {
   "cell_type": "code",
   "execution_count": 24,
   "metadata": {},
   "outputs": [
    {
     "name": "stdout",
     "output_type": "stream",
     "text": [
      "[5.7739551007747654, 0.689453125, 0.87441406249999998, 1.2974167175590992, 5.501888936758041]\n"
     ]
    }
   ],
   "source": [
    "print(model.evaluate_generator(val_generator_no_shuffle, 80))"
   ]
  }
 ],
 "metadata": {
  "kernelspec": {
   "display_name": "Python 3",
   "language": "python",
   "name": "python3"
  },
  "language_info": {
   "codemirror_mode": {
    "name": "ipython",
    "version": 3
   },
   "file_extension": ".py",
   "mimetype": "text/x-python",
   "name": "python",
   "nbconvert_exporter": "python",
   "pygments_lexer": "ipython3",
   "version": "3.5.4"
  }
 },
 "nbformat": 4,
 "nbformat_minor": 2
}
